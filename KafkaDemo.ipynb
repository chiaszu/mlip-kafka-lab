{
 "cells": [
  {
   "cell_type": "markdown",
   "id": "59b2d799",
   "metadata": {},
   "source": [
    "# Kafka Demo\n",
    "\n",
    "### Connect to Kafka Broker Server \n",
    "```\n",
    "ssh -L <local_port>:localhost:<remote_port> <user>@<remote_server> -NTf\n",
    "```\n",
    "Find how to connect to Kafka server on Canvas lab 2 assignment page.\n",
    "\n",
    "### To kill connection\n",
    "```\n",
    "lsof -ti:<local_port> | xargs kill -9\n",
    "```\n",
    "\n",
    "### Setup\n",
    "I recommend setting up a python environment for this lab (and all other ones).\n",
    "```\n",
    "python -m venv <environment_name>\n",
    "source <environment_name>/bin/activate\n",
    "```\n",
    "Then you can install the requirements.\n",
    "```\n",
    "python -m pip install kafka-python\n",
    "```"
   ]
  },
  {
   "cell_type": "code",
   "execution_count": null,
   "id": "560fd2bb",
   "metadata": {
    "ExecuteTime": {
     "end_time": "2024-09-03T20:53:48.295316Z",
     "start_time": "2024-09-03T20:53:48.290645Z"
    }
   },
   "outputs": [],
   "source": [
    "import os\n",
    "from datetime import datetime\n",
    "from json import dumps, loads\n",
    "from time import sleep\n",
    "from random import randint\n",
    "from kafka import KafkaConsumer, KafkaProducer\n",
    "from typing import Dict, Any\n",
    "\n",
    "# TODO: Fill in a unique identifier so your topic doesn't collide with others'\n",
    "andrew_id = ... # you can also use any unique identifier for yourself if you prefer :)\n",
    "topic = f\"lab02-{andrew_id}\"\n",
    "print(f\"Topic: {topic}\")"
   ]
  },
  {
   "cell_type": "markdown",
   "id": "0eb9dd6f",
   "metadata": {},
   "source": [
    "### Producer Mode -> Writes Data to Broker"
   ]
  },
  {
   "cell_type": "code",
   "execution_count": null,
   "id": "3ace33c5",
   "metadata": {},
   "outputs": [],
   "source": [
    "# I have provided the following schema for messages. You may change the city data if you wish but it is optional.\n",
    "def make_city_data(city: str, temperature_f: str) -> Dict[str, Any]:\n",
    "    return {\n",
    "        \"city\": city,\n",
    "        \"timestamp\": datetime.now().strftime(\"%Y-%m-%d %H:%M:%S\"),\n",
    "        \"temperature_f\": temperature_f, # temperature in fahrenheit\n",
    "    }"
   ]
  },
  {
   "cell_type": "code",
   "execution_count": null,
   "id": "aa4679a1",
   "metadata": {},
   "outputs": [],
   "source": [
    "# Create a producer to write data to kafka\n",
    "# Ref: https://kafka-python.readthedocs.io/en/master/apidoc/KafkaProducer.html\n",
    "\n",
    "# [TODO]: Fill in the address of your Kafka bootstrap server\n",
    "# [TODO]: Kafka expects messages as bytes. Explore the documentation and decide how to serialize Python dict objects into bytes.\n",
    "# Hint: You may want to convert your Python dict → JSON string → UTF-8 bytes.\n",
    "\n",
    "producer = KafkaProducer(bootstrap_servers=[...],\n",
    "                        value_serializer=...)"
   ]
  },
  {
   "cell_type": "code",
   "execution_count": null,
   "id": "b67582ee",
   "metadata": {},
   "outputs": [],
   "source": [
    "# [TODO]: Add a few more examples of city data below\n",
    "cities = [make_city_data(\"Pittsburgh\" , 64), make_city_data(... , ...), make_city_data(... , ...)]\n",
    "\n",
    "print(\"Writing to Kafka Broker\")\n",
    "for i in range(10):\n",
    "    data = cities[randint(0,len(cities)-1)] # random selection\n",
    "    producer.send(topic=topic, value=data)\n",
    "    sleep(1)\n",
    "\n",
    "producer.flush()\n",
    "print(f\"Data written to topic: {topic}\")"
   ]
  },
  {
   "cell_type": "markdown",
   "id": "a45bbace",
   "metadata": {},
   "source": [
    "### Consumer Mode -> Reads Data from Broker"
   ]
  },
  {
   "cell_type": "code",
   "execution_count": null,
   "id": "a5e2f59f",
   "metadata": {},
   "outputs": [],
   "source": [
    "# Create a consumer to read data from kafka\n",
    "# Ref: https://kafka-python.readthedocs.io/en/master/apidoc/KafkaConsumer.html\n",
    "\n",
    "# [TODO]: Complete the missing ... parameters/arguments using the Kafka documentation\n",
    "consumer = KafkaConsumer(\n",
    "    ...,\n",
    "    bootstrap_servers=[...],\n",
    "    auto_offset_reset=..., #Experiment with different values (earliest, latest, none)\n",
    "    # Commit that an offset has been read\n",
    "    enable_auto_commit=True,\n",
    "    # How often to tell Kafka, an offset has been read\n",
    "    auto_commit_interval_ms=1000\n",
    ")\n",
    "\n",
    "print('Reading Kafka Broker')\n",
    "for message in consumer:\n",
    "    message = message.value.decode()\n",
    "    # Default message.value type is bytes!\n",
    "    print(loads(message))\n",
    "    os.system(f\"echo {message} >> kafka_log.csv\")"
   ]
  },
  {
   "cell_type": "markdown",
   "id": "38927152",
   "metadata": {},
   "source": [
    "# Use kcat!\n",
    "It's a CLI (Command Line Interface). Previously known as kafkacat\n",
    "\n",
    "\n",
    "Ref: https://docs.confluent.io/platform/current/app-development/kafkacat-usage.html"
   ]
  },
  {
   "cell_type": "code",
   "execution_count": null,
   "id": "e19b63da",
   "metadata": {},
   "outputs": [],
   "source": [
    "# [TODO]: Use kcat to consume the first 5 messages from your topic. Use the -f flag to include the offset in the output.\n",
    "# Paste the output below and explain what the offset refers to."
   ]
  },
  {
   "cell_type": "markdown",
   "id": "83e24fac",
   "metadata": {},
   "source": []
  }
 ],
 "metadata": {
  "kernelspec": {
   "display_name": "Python 3.12.6 64-bit ('3.12.6')",
   "language": "python",
   "name": "python3"
  },
  "language_info": {
   "codemirror_mode": {
    "name": "ipython",
    "version": 3
   },
   "file_extension": ".py",
   "mimetype": "text/x-python",
   "name": "python",
   "nbconvert_exporter": "python",
   "pygments_lexer": "ipython3",
   "version": "3.12.6"
  },
  "vscode": {
   "interpreter": {
    "hash": "8489a72b3ad1d54b6341ce544695b513282ff2c0e2ec9633f081b89a69ecdb6a"
   }
  }
 },
 "nbformat": 4,
 "nbformat_minor": 5
}
